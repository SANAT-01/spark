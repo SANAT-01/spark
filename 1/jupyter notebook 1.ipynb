{
 "cells": [
  {
   "cell_type": "code",
   "execution_count": 1,
   "id": "3c853888",
   "metadata": {},
   "outputs": [
    {
     "name": "stderr",
     "output_type": "stream",
     "text": [
      "21/12/11 23:11:34 WARN Utils: Your hostname, venugoapal-IdeaPad-5-15ITL05 resolves to a loopback address: 127.0.1.1; using 192.168.55.107 instead (on interface wlp0s20f3)\n",
      "21/12/11 23:11:34 WARN Utils: Set SPARK_LOCAL_IP if you need to bind to another address\n",
      "Using Spark's default log4j profile: org/apache/spark/log4j-defaults.properties\n",
      "Setting default log level to \"WARN\".\n",
      "To adjust logging level use sc.setLogLevel(newLevel). For SparkR, use setLogLevel(newLevel).\n",
      "21/12/11 23:11:34 WARN NativeCodeLoader: Unable to load native-hadoop library for your platform... using builtin-java classes where applicable\n"
     ]
    }
   ],
   "source": [
    "from pyspark.sql.session import SparkSession\n",
    "from pyspark import SparkContext\n",
    "from pyspark import SparkContext\n",
    "sc = SparkContext.getOrCreate()"
   ]
  },
  {
   "cell_type": "code",
   "execution_count": 2,
   "id": "bc8cf1b8",
   "metadata": {},
   "outputs": [],
   "source": [
    "aa =  open('venu.txt','w')\n",
    "vv = open('/home/venugoapal/data2.txt','r')"
   ]
  },
  {
   "cell_type": "code",
   "execution_count": 3,
   "id": "c61a0799",
   "metadata": {},
   "outputs": [],
   "source": [
    "current_word = None\n",
    "current_count = ''\n",
    "word = None\n",
    "\n",
    "# read the entire line from STDIN\n",
    "for line in vv:\n",
    "    # remove leading and trailing whitespace\n",
    "    if \"#\" in line:\n",
    "         continue\n",
    "    line = line.strip().split('\\t')\n",
    "    # slpiting the data on the basis of tab we have provided in mapper.py\n",
    "    word = line[0]\n",
    "    try:\n",
    "         cc=line[1]\n",
    "    except:\n",
    "          cc = '0'\n",
    "    cc = cc+',1:'\n",
    "    # this IF-switch only works because Hadoop sorts map output\n",
    "    # by key (here: word) before it is passed to the reducer\n",
    "    if current_word == word:\n",
    "        current_count +=cc\n",
    "    else:\n",
    "        if current_word=='0':\n",
    "            aa.write('{}\\t{}\\t{}'.format(current_word,0, current_count))\n",
    "            aa.write('\\n')\n",
    "        elif current_word:\n",
    "            # write result to STDOUT\n",
    "            \n",
    "            aa.write('{}\\t{}\\t{}'.format(current_word,999, current_count))\n",
    "            aa.write('\\n')\n",
    "        current_count = cc\n",
    "        current_word = word\n",
    "\n",
    "# do not forget to output the last word if needed!\n",
    "if current_word == word:\n",
    "    \n",
    "    aa.write('{}\\t{}\\t{}'.format(current_word,999, current_count))\n",
    "    aa.write('\\n')"
   ]
  },
  {
   "cell_type": "code",
   "execution_count": 4,
   "id": "244df47f",
   "metadata": {},
   "outputs": [],
   "source": [
    "aa.close()"
   ]
  },
  {
   "cell_type": "code",
   "execution_count": 5,
   "id": "32a37cff",
   "metadata": {},
   "outputs": [
    {
     "name": "stderr",
     "output_type": "stream",
     "text": [
      "                                                                                \r"
     ]
    },
    {
     "name": "stdout",
     "output_type": "stream",
     "text": [
      "Finished after: 8 iterations\n"
     ]
    },
    {
     "name": "stderr",
     "output_type": "stream",
     "text": [
      "                                                                                \r"
     ]
    },
    {
     "data": {
      "text/plain": [
       "[('18', 6, '0->5->6->7->12->21->18'),\n",
       " ('14', 4, '0->5->4->9->14'),\n",
       " ('17', 6, '0->5->10->19->20->16->17'),\n",
       " ('8', 6, '0->5->6->7->12->13->8'),\n",
       " ('13', 5, '0->5->6->7->12->13'),\n",
       " ('0', 0, '0'),\n",
       " ('12', 4, '0->5->6->7->12'),\n",
       " ('15', 4, '0->5->10->19->15'),\n",
       " ('16', 5, '0->5->10->19->20->16'),\n",
       " ('3', 4, '0->5->6->7->3'),\n",
       " ('6', 2, '0->5->6'),\n",
       " ('7', 3, '0->5->6->7'),\n",
       " ('9', 3, '0->5->4->9'),\n",
       " ('21', 5, '0->5->6->7->12->21'),\n",
       " ('10', 2, '0->5->10'),\n",
       " ('5', 1, '0->5'),\n",
       " ('11', 3, '0->5->10->11'),\n",
       " ('19', 3, '0->5->10->19'),\n",
       " ('4', 2, '0->5->4'),\n",
       " ('2', 3, '0->5->6->2'),\n",
       " ('20', 4, '0->5->10->19->20')]"
      ]
     },
     "execution_count": 5,
     "metadata": {},
     "output_type": "execute_result"
    }
   ],
   "source": [
    "textFile = sc.textFile(\"/home/venugoapal/venu.txt\")\n",
    "count = sc.accumulator(0)\n",
    "\n",
    "def customSplitNodesTextFile(node):\n",
    "\tif len(node.split('\\t')) < 3:\n",
    "\t\tnid, distance = node.split('\\t')\n",
    "\t\tneighbors = None\n",
    "\telse:\n",
    "\t\tnid, distance, neighbors = node.split('\\t')\n",
    "\t\tneighbors = neighbors.split(':')\n",
    "\t\tneighbors = neighbors[:len(neighbors) - 1]\n",
    "\tpath = nid\n",
    "\treturn (nid , (int(distance), neighbors, path))\n",
    "\n",
    "def customSplitNodesIterative(node):\n",
    "\tnid = node[0]\n",
    "\tdistance = node[1][0]\n",
    "\tneighbors = node[1][1]\n",
    "\tpath = node[1][2]\n",
    "\telements = path.split('->')\n",
    "\tif elements[len(elements) - 1] != nid:\n",
    "\t\tpath = path + '->' + nid;\n",
    "\treturn (nid , (int(distance), neighbors, path))\n",
    "\n",
    "def customSplitNeighbor(parentPath, parentDistance, neighbor):\n",
    "\tif neighbor!=None:\n",
    "\t\tnid, distance = neighbor.split(',')\n",
    "\t\tdistance = parentDistance + int(distance)\n",
    "\t\tpath = parentPath + '->' + nid\n",
    "\t\treturn (nid, (int(distance), 'None', path))\n",
    "\n",
    "def minDistance(nodeValue1, nodeValue2):\n",
    "\tneighbors = None\n",
    "\tdistance = 0\n",
    "\tpath = ''\n",
    "\tif nodeValue1[1] != 'None':\n",
    "\t\tneighbors = nodeValue1[1]\n",
    "\telse:\n",
    "\t\tneighbors = nodeValue2[1]\n",
    "\tdist1 = nodeValue1[0]\n",
    "\tdist2 = nodeValue2[0]\n",
    "\tif dist1 <= dist2:\n",
    "\t\tdistance = dist1\n",
    "\t\tpath = nodeValue1[2]\n",
    "\telse:\n",
    "\t\tcount.add(1);\n",
    "\t\tdistance = dist2\n",
    "\t\tpath = nodeValue2[2]\n",
    "\treturn (distance, neighbors, path)\n",
    "\n",
    "def formatResult(node):\n",
    "\tnid = node[0]\n",
    "\tminDistance = node[1][0]\n",
    "\tpath = node[1][2]\n",
    "\treturn nid, minDistance, path\n",
    "\n",
    "nodes = textFile.map(lambda node: customSplitNodesTextFile(node))\n",
    "\n",
    "oldCount = 0\n",
    "iterations = 0\n",
    "while True:\n",
    "\titerations += 1\n",
    "\tnodesValues = nodes.map(lambda x: x[1])\n",
    "\tneighbors = nodesValues.filter(lambda nodeDataFilter: nodeDataFilter[1]!=None).map(\n",
    "\t\tlambda nodeData: map(\n",
    "\t\t\tlambda neighbor: customSplitNeighbor(\n",
    "\t\t\t\tnodeData[2], nodeData[0], neighbor\n",
    "\t\t\t), nodeData[1]\n",
    "\t\t)\n",
    "\t).flatMap(lambda x: x)\n",
    "\tmapper = nodes.union(neighbors)\n",
    "\treducer = mapper.reduceByKey(lambda x, y: minDistance(x, y))\n",
    "\tnodes = reducer.map(lambda node: customSplitNodesIterative(node))\n",
    "\tnodes.count() # We call the count to execute all the RDD transformations\n",
    "\tif oldCount == count.value:\n",
    "\t\tbreak\n",
    "\toldCount=count.value\n",
    "print('Finished after: ' + str(iterations) + ' iterations')\n",
    "result = reducer.map(lambda node: formatResult(node))\n",
    "\n",
    "result.collect()"
   ]
  },
  {
   "cell_type": "code",
   "execution_count": null,
   "id": "932aa6cb",
   "metadata": {},
   "outputs": [],
   "source": []
  }
 ],
 "metadata": {
  "kernelspec": {
   "display_name": "Python 3 (ipykernel)",
   "language": "python",
   "name": "python3"
  },
  "language_info": {
   "codemirror_mode": {
    "name": "ipython",
    "version": 3
   },
   "file_extension": ".py",
   "mimetype": "text/x-python",
   "name": "python",
   "nbconvert_exporter": "python",
   "pygments_lexer": "ipython3",
   "version": "3.8.8"
  }
 },
 "nbformat": 4,
 "nbformat_minor": 5
}
